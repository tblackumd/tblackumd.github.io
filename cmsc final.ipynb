{
 "cells": [
  {
   "cell_type": "markdown",
   "metadata": {},
   "source": [
    "# Indicators of WorldWide Democracy - A Jupyter NoteBook Data Science Tutorial"
   ]
  },
  {
   "cell_type": "markdown",
   "metadata": {
    "colab_type": "text",
    "id": "vVASBPpOAuwJ"
   },
   "source": [
    "\n",
    "In the following notebook I will be demonstrating to you how to gather, organize, clean, and use data found online to visualize how democratic nations around the world are.  We will first discuss how to acquire the data.  Then, we will load and organize this data into a single usable dataset.  After that, we will clean the data and make it usable for visualization and/or machine learning.  Next, we will visualize the data and see if we notice anything interesting through inspection.  Finally, we will create a neural network to test if we can use the indicators we gathered to predict how democratic a nation is."
   ]
  },
  {
   "cell_type": "markdown",
   "metadata": {
    "colab_type": "text",
    "id": "OzSNpQ7tBbZt"
   },
   "source": [
    "## Gathering the data\n",
    "First we load some imports that we know we will need."
   ]
  },
  {
   "cell_type": "code",
   "execution_count": 1,
   "metadata": {
    "colab": {
     "base_uri": "https://localhost:8080/",
     "height": 34
    },
    "colab_type": "code",
    "executionInfo": {
     "elapsed": 624,
     "status": "ok",
     "timestamp": 1576523327074,
     "user": {
      "displayName": "Travis Black",
      "photoUrl": "",
      "userId": "02029184568666512051"
     },
     "user_tz": 300
    },
    "id": "5v378F2SEdTa",
    "outputId": "e7aa8b0e-3360-4464-8d3f-47a27be6f7d8"
   },
   "outputs": [
    {
     "name": "stdout",
     "output_type": "stream",
     "text": [
      "Drive already mounted at /content/gdrive; to attempt to forcibly remount, call drive.mount(\"/content/gdrive\", force_remount=True).\n"
     ]
    }
   ],
   "source": [
    "import numpy as np\n",
    "import pandas as pd\n",
    "from google.colab import drive #I used google colab for this project  \n",
    "drive.mount('/content/gdrive') #That's why these two lines are here.\n",
    "\n",
    "import pandas as pd\n",
    "import numpy as np\n",
    "import math\n",
    "from collections import defaultdict\n"
   ]
  },
  {
   "cell_type": "markdown",
   "metadata": {
    "colab_type": "text",
    "id": "kClzChJFBi0V"
   },
   "source": [
    "Now, let's discuss the sources.  For most of my data, I used tables available from the world bank.  You can find that data here:  https://databank.worldbank.org/home.aspx\n",
    "\n",
    "They allow you to make custom tables, which I did.  I made tables of the last 25 years, for every country around the world, of:  Poverty rate at $1.90 a day as a percentage, GDP per capita in USD, Life expectancy in years.\n",
    "\n",
    "Unfortunately the world bank didn't have the best data when it comes to classifying how democratic a country is.  For that, I found data at https://www.v-dem.net/en/data/data-version-9/  \n",
    "\n",
    "This data is absolutely fantastic.  It goes very far back, and they have multiple metrics by which they measure democracy.  The metric I used is \"Electoral Democracy Index\", which is a compound measurement based on many factors, such as free elections, lack of election fraud and irregularities, presence of multiple parties, freedom of speech and media, and more.\n",
    "\n",
    "The Democracy Index data is very large, so I loaded it and then immediately trimmed it down to have only the data that I need."
   ]
  },
  {
   "cell_type": "code",
   "execution_count": 2,
   "metadata": {
    "colab": {
     "base_uri": "https://localhost:8080/",
     "height": 221
    },
    "colab_type": "code",
    "executionInfo": {
     "elapsed": 6625,
     "status": "ok",
     "timestamp": 1576523333095,
     "user": {
      "displayName": "Travis Black",
      "photoUrl": "",
      "userId": "02029184568666512051"
     },
     "user_tz": 300
    },
    "id": "dFoyoFfsEiec",
    "outputId": "2ae736f9-79ce-4985-c3cd-7293be11df13"
   },
   "outputs": [
    {
     "name": "stdout",
     "output_type": "stream",
     "text": [
      "   year country_name  v2x_polyarchy\n",
      "0  1789  Afghanistan            NaN\n",
      "1  1790  Afghanistan            NaN\n",
      "2  1791  Afghanistan            NaN\n",
      "3  1792  Afghanistan            NaN\n",
      "4  1793  Afghanistan            NaN\n",
      "     year country_name  v2x_polyarchy\n",
      "206  1995  Afghanistan          0.094\n",
      "207  1996  Afghanistan          0.085\n",
      "208  1997  Afghanistan          0.077\n",
      "209  1998  Afghanistan          0.077\n",
      "210  1999  Afghanistan          0.077\n"
     ]
    }
   ],
   "source": [
    "demindex = pd.read_csv(\"/content/gdrive/My Drive/demindex.csv\")\n",
    "\n",
    "#keep country_name, year, v2x_polyarchy\n",
    "demindex = demindex[['year','country_name','v2x_polyarchy']]\n",
    "print(demindex.head())\n",
    "\n",
    "#only keep years > 1994\n",
    "demindex = demindex.loc[demindex['year'] > 1994]\n",
    "\n",
    "print(demindex.head())\n",
    "\n",
    "#I've examined my data and recognized that 3 of my 4 data files use years as rows and countries as columns, so I need to reorganize this data so\n",
    "#that country will be a \"key\" (column) and data will be rows.\n",
    "#to do this I will use a defaultdict where each country is a key, and the data it stores is a list of the past 25 years of demindex data.\n",
    "didata = defaultdict(list)\n",
    "for indx in range(len(demindex)):\n",
    "  didata[demindex['country_name'].iloc[indx]].append(demindex['v2x_polyarchy'].iloc[indx])\n",
    "\n",
    "\n",
    "\n"
   ]
  },
  {
   "cell_type": "code",
   "execution_count": 0,
   "metadata": {
    "colab": {},
    "colab_type": "code",
    "id": "ehDGJmu6AMr9"
   },
   "outputs": [],
   "source": [
    "#Now lets take a look at how much data is nan.  In particular we need to have non-nan democratic index data for every year, so for this analysis we will drop\n",
    "#countries that are missing that data.  Since we've placed our data into a defaultdict of lists, we can use any() to check for nans.\n",
    "#we should not alter the keys of a defaultdict while iterating them, so I will place the keys to remove in a list and remove them all afterwards\n",
    "removals = []\n",
    "for k in didata:\n",
    "  res = any([math.isnan(x) for x in didata[k]])\n",
    "  if res:\n",
    "    removals.append(k)\n",
    "for k in removals:\n",
    "  del didata[k]\n"
   ]
  },
  {
   "cell_type": "markdown",
   "metadata": {
    "colab_type": "text",
    "id": "buu40OFgDXTE"
   },
   "source": [
    "At this point I load and process the data of our three indicators:  poverty, life expectancy, and GDP per capita."
   ]
  },
  {
   "cell_type": "code",
   "execution_count": 0,
   "metadata": {
    "colab": {},
    "colab_type": "code",
    "id": "hFU-HdKH7vUF"
   },
   "outputs": [],
   "source": [
    "poverty = pd.read_csv(\"/content/gdrive/My Drive/poverty.csv\")\n",
    "lifeexp = pd.read_csv(\"/content/gdrive/My Drive/lifeexp.csv\")\n",
    "gdp = pd.read_csv(\"/content/gdrive/My Drive/gdp.csv\")\n",
    "ledata = defaultdict(list)\n",
    "gdpdata = defaultdict(list)\n",
    "povdata = defaultdict(list)\n",
    "removals = set()\n",
    "for k in gdp:\n",
    "  if k == 'Time' or k == 'Series Name' or k == 'Series Code' or k == 'Time Code':\n",
    "    continue\n",
    "\n",
    "  #I have noticed that in the following datasets, countries are labeled as \"Country [abb]\" or \"Country[abb]\", where abb is the country's abbreviation\n",
    "  #So that the data between all of our filed match, I need to remove \"[abb]\" from each country label\n",
    "  #During this process I can also check that the given country is actually present in each dataset, because if it is not, then I cannot use it because too much information will be missing.\n",
    "  #these data files also go up to 2019, but are just missing the 2019 data.   So, we need to remove the last index from each list we create so that they only go to 2018.\n",
    "  for indx in range(len(k)):\n",
    "    char = k[indx]\n",
    "    if char == '[':\n",
    "      country = k[:indx]\n",
    "      if country[-1] == ' ':\n",
    "        country = country[:-1]\n",
    "      if country[-1] == ' ':\n",
    "        country = country[:-1]\n",
    "      if country in didata and k in gdp and k in lifeexp and k in poverty:\n",
    "        gdpdata[country] = list(gdp[k][:24])\n",
    "        ledata[country] = list(lifeexp[k][:24])\n",
    "        povdata[country] = list(poverty[k][:24])\n",
    "      break"
   ]
  },
  {
   "cell_type": "markdown",
   "metadata": {
    "colab_type": "text",
    "id": "NS4FwefDD8vh"
   },
   "source": [
    "# Load the data into a single dataframe"
   ]
  },
  {
   "cell_type": "markdown",
   "metadata": {
    "colab_type": "text",
    "id": "1bIwyi_kDmUf"
   },
   "source": [
    "We now have 4 defaultdicts that take the same form of key=country, value = list of data entries by year.\n",
    "\n",
    "But I still don't think this is the most useful format for actually working with the data.\n",
    "\n",
    "I believe a good organization would be to have a single dataframe where row is year, and column keys correspond to country_code + indicator_type.\n",
    "\n",
    "Let's remedy that."
   ]
  },
  {
   "cell_type": "code",
   "execution_count": 5,
   "metadata": {
    "colab": {
     "base_uri": "https://localhost:8080/",
     "height": 153
    },
    "colab_type": "code",
    "executionInfo": {
     "elapsed": 7171,
     "status": "ok",
     "timestamp": 1576523333701,
     "user": {
      "displayName": "Travis Black",
      "photoUrl": "",
      "userId": "02029184568666512051"
     },
     "user_tz": 300
    },
    "id": "f0Tkao6K_Q11",
    "outputId": "5d06a27f-7acf-43f6-e7ac-25dffbb13f51"
   },
   "outputs": [
    {
     "name": "stdout",
     "output_type": "stream",
     "text": [
      "      0  Afghanistan_di_  ... Zimbabwe_pov Zimbabwe_le_\n",
      "0  1995            0.094  ...           ..       52.044\n",
      "1  1996            0.085  ...           ..        50.48\n",
      "2  1997            0.077  ...           ..       49.009\n",
      "3  1998            0.077  ...           ..       47.661\n",
      "4  1999            0.077  ...           ..       46.466\n",
      "\n",
      "[5 rows x 557 columns]\n"
     ]
    }
   ],
   "source": [
    "#First, we can make a list of our 25 years:\n",
    "years = []\n",
    "for y in range(1995,2019):\n",
    "  years.append(y)\n",
    "#now we can put that into a new dataframe\n",
    "demdf = pd.DataFrame(years)\n",
    "#now lets go through the dictionaries we have made and add the data with the appropriate keys.\n",
    "for country in didata:\n",
    "  if country not in gdpdata or country not in povdata or country not in ledata:\n",
    "      continue\n",
    "  key1 = country+\"_di_\"\n",
    "  key2 = country+\"_gdp\"\n",
    "  key3 = country+\"_pov\"\n",
    "  key4 = country+\"_le_\"\n",
    "  l1 = list(didata[country])\n",
    "  l2 = list(gdpdata[country])\n",
    "  l3 = list(povdata[country])\n",
    "  l4 = list(ledata[country])\n",
    "  if len(l1) < 24 or len(l2) < 24 or len(l3) < 24 or len(l4) < 24:\n",
    "    continue\n",
    "  demdf[key1] = l1\n",
    "  #we already know that the following countries have all 24 years because that is in the specifications for these datasets\n",
    "  demdf[key2] = l2\n",
    "  demdf[key3] = l3\n",
    "  demdf[key4] = l4\n",
    "\n",
    "print(demdf.head())"
   ]
  },
  {
   "cell_type": "markdown",
   "metadata": {
    "colab_type": "text",
    "id": "m_4wbrv5Dx6Z"
   },
   "source": [
    "# Let's clean up the data in the dataframe."
   ]
  },
  {
   "cell_type": "markdown",
   "metadata": {
    "colab_type": "text",
    "id": "ez9LKO-MEMAW"
   },
   "source": [
    "I've examined the data and have seen that the world bank dataset sometimes uses empty cells for missing data, but also sometimes uses \"..\" for missing data\n",
    "\n",
    "I will use pandas replace method to replace it with nan\n",
    "\n",
    "I also have seen entries of 0, which doesn't make any sense for any of my data, so it should also be replaced with nan."
   ]
  },
  {
   "cell_type": "code",
   "execution_count": 6,
   "metadata": {
    "colab": {
     "base_uri": "https://localhost:8080/",
     "height": 34
    },
    "colab_type": "code",
    "executionInfo": {
     "elapsed": 7244,
     "status": "ok",
     "timestamp": 1576523333788,
     "user": {
      "displayName": "Travis Black",
      "photoUrl": "",
      "userId": "02029184568666512051"
     },
     "user_tz": 300
    },
    "id": "3EpyPrybKYWM",
    "outputId": "d0d93f68-2a0c-4ad4-abf4-86439301165a"
   },
   "outputs": [
    {
     "name": "stdout",
     "output_type": "stream",
     "text": [
      "(24, 557)\n"
     ]
    }
   ],
   "source": [
    "\n",
    "demdf = demdf.replace('..',np.NaN)\n",
    "demdf = demdf.replace('0',np.NaN)\n",
    "demdf = demdf.replace(0.0,np.NaN)\n",
    "\n",
    "#Now let's check how much of our data is actually nan\n",
    "print(demdf.shape)\n",
    "#for k in demdf:\n",
    "  #print(k,demdf[k].isnull().sum())\n",
    "\n",
    "\n",
    "\n"
   ]
  },
  {
   "cell_type": "markdown",
   "metadata": {
    "colab_type": "text",
    "id": "VZ5hab5nEYpU"
   },
   "source": [
    "I have suppressed the previous output because it is long, but what we have seen is that very little data is missing *except* for the poverty data, which has many nan entries\n",
    "\n",
    "I've decided that we need to have at least 4 non-nan entries for any key.  So any country with >19 nan entries in poverty data will have to be removed.  Note that only\n",
    "\n",
    "the poverty data is really missing many keys, so that may sound like a lot of missing data, but it isn't really that much."
   ]
  },
  {
   "cell_type": "code",
   "execution_count": 7,
   "metadata": {
    "colab": {
     "base_uri": "https://localhost:8080/",
     "height": 34
    },
    "colab_type": "code",
    "executionInfo": {
     "elapsed": 7570,
     "status": "ok",
     "timestamp": 1576523334141,
     "user": {
      "displayName": "Travis Black",
      "photoUrl": "",
      "userId": "02029184568666512051"
     },
     "user_tz": 300
    },
    "id": "CEdo572PEUPa",
    "outputId": "028f7696-72d5-4ebd-e7c2-78ac12561f7e"
   },
   "outputs": [
    {
     "name": "stdout",
     "output_type": "stream",
     "text": [
      "(24, 389)\n"
     ]
    }
   ],
   "source": [
    "removals = set()\n",
    "for k in demdf:\n",
    "  nancount = demdf[k].isnull().sum()\n",
    "  if nancount > 21:\n",
    "    for indx in range(len(k)):\n",
    "      char = k[indx]\n",
    "      if char == '_':\n",
    "        country = k[:indx]\n",
    "        removals.add(country)\n",
    "\n",
    "for c in removals:\n",
    "  del demdf[c+\"_di_\"]\n",
    "  del demdf[c+\"_gdp\"]\n",
    "  del demdf[c+\"_pov\"]\n",
    "  del demdf[c+\"_le_\"]\n",
    "\n",
    "print(demdf.shape)  \n",
    "\n",
    "del demdf[0]"
   ]
  },
  {
   "cell_type": "code",
   "execution_count": 8,
   "metadata": {
    "colab": {
     "base_uri": "https://localhost:8080/",
     "height": 102
    },
    "colab_type": "code",
    "executionInfo": {
     "elapsed": 7548,
     "status": "ok",
     "timestamp": 1576523334144,
     "user": {
      "displayName": "Travis Black",
      "photoUrl": "",
      "userId": "02029184568666512051"
     },
     "user_tz": 300
    },
    "id": "PsqR6Ud6xoG8",
    "outputId": "4900d5a5-d74e-4989-e848-9ac125a8f8e3"
   },
   "outputs": [
    {
     "name": "stderr",
     "output_type": "stream",
     "text": [
      "/usr/local/lib/python3.6/dist-packages/pandas/core/indexing.py:205: SettingWithCopyWarning: \n",
      "A value is trying to be set on a copy of a slice from a DataFrame\n",
      "\n",
      "See the caveats in the documentation: http://pandas.pydata.org/pandas-docs/stable/user_guide/indexing.html#returning-a-view-versus-a-copy\n",
      "  self._setitem_with_indexer(indexer, value)\n"
     ]
    }
   ],
   "source": [
    "#Now, I've already taken a glance at the data, and I noticed that the poverty data doesn't actually include 2018, it just leaves that row empty.\n",
    "#So we are going to fill in each 2018 poverty data entry with the last poverty statistic for that given country\n",
    "for k in demdf:\n",
    "  if k[-4:] == '_pov':\n",
    "    for i in range(22,0,-1):\n",
    "      if demdf[k].iloc[i] != '..' and float(demdf[k].iloc[i]) > 0:\n",
    "        demdf[k].iloc[23] = demdf[k].iloc[i]\n",
    "        break"
   ]
  },
  {
   "cell_type": "markdown",
   "metadata": {
    "colab_type": "text",
    "id": "rN5BC-vMEo2o"
   },
   "source": [
    "Now the question is, what do we do about any other missing data?\n",
    "Well first, let's examine where the missing data still is."
   ]
  },
  {
   "cell_type": "code",
   "execution_count": 0,
   "metadata": {
    "colab": {},
    "colab_type": "code",
    "id": "FivoptfzPpZC"
   },
   "outputs": [],
   "source": [
    "#for k in demdf:\n",
    "  #if demdf[k].isnull().sum() > 0:\n",
    "    #print(k,demdf[k].isnull().sum())  #<---this output is long, so I have suppressed it for now.\n",
    "\n"
   ]
  },
  {
   "cell_type": "markdown",
   "metadata": {
    "colab_type": "text",
    "id": "g9tjTaF7E0_d"
   },
   "source": [
    "looking at these countries, they are mostly very stable over the last 25 years.\n",
    "\n",
    "And even the countries that aren't *quite* as stable tend to not be missing as much data\n",
    "\n",
    "In order to visualize our data properly, we will need to fill in our missing data somehow.\n",
    "\n",
    "Let's use pandas ffill method, which tries to use the previous values in a column to fill in later ones."
   ]
  },
  {
   "cell_type": "code",
   "execution_count": 9,
   "metadata": {
    "colab": {
     "base_uri": "https://localhost:8080/",
     "height": 1000
    },
    "colab_type": "code",
    "executionInfo": {
     "elapsed": 7774,
     "status": "ok",
     "timestamp": 1576523334396,
     "user": {
      "displayName": "Travis Black",
      "photoUrl": "",
      "userId": "02029184568666512051"
     },
     "user_tz": 300
    },
    "id": "-4hVHq3fE1T7",
    "outputId": "ffc7329b-ee19-4b67-a95e-c437239f523c"
   },
   "outputs": [
    {
     "name": "stdout",
     "output_type": "stream",
     "text": [
      "0      NaN\n",
      "1      NaN\n",
      "2     12.9\n",
      "3      NaN\n",
      "4      NaN\n",
      "5     13.1\n",
      "6      NaN\n",
      "7      NaN\n",
      "8     10.1\n",
      "9      NaN\n",
      "10     NaN\n",
      "11     4.8\n",
      "12     NaN\n",
      "13     NaN\n",
      "14     3.9\n",
      "15     NaN\n",
      "16     2.7\n",
      "17     1.8\n",
      "18     1.4\n",
      "19     0.4\n",
      "20     0.3\n",
      "21     0.2\n",
      "22     NaN\n",
      "23     0.2\n",
      "Name: China_pov, dtype: object\n",
      "\n",
      "0      NaN\n",
      "1      NaN\n",
      "2     12.9\n",
      "3     12.9\n",
      "4     12.9\n",
      "5     13.1\n",
      "6     13.1\n",
      "7     13.1\n",
      "8     10.1\n",
      "9     10.1\n",
      "10    10.1\n",
      "11     4.8\n",
      "12     4.8\n",
      "13     4.8\n",
      "14     3.9\n",
      "15     3.9\n",
      "16     2.7\n",
      "17     1.8\n",
      "18     1.4\n",
      "19     0.4\n",
      "20     0.3\n",
      "21     0.2\n",
      "22     0.2\n",
      "23     0.2\n",
      "Name: China_pov, dtype: object\n",
      "\n",
      "0     12.9\n",
      "1     12.9\n",
      "2     12.9\n",
      "3     12.9\n",
      "4     12.9\n",
      "5     13.1\n",
      "6     13.1\n",
      "7     13.1\n",
      "8     10.1\n",
      "9     10.1\n",
      "10    10.1\n",
      "11     4.8\n",
      "12     4.8\n",
      "13     4.8\n",
      "14     3.9\n",
      "15     3.9\n",
      "16     2.7\n",
      "17     1.8\n",
      "18     1.4\n",
      "19     0.4\n",
      "20     0.3\n",
      "21     0.2\n",
      "22     0.2\n",
      "23     0.2\n",
      "Name: China_pov, dtype: object\n"
     ]
    }
   ],
   "source": [
    "\n",
    "print(demdf['China_pov'])\n",
    "print(\"\")\n",
    "demdf = demdf.fillna(method='ffill')\n",
    "print(demdf['China_pov'])\n",
    "print(\"\")\n",
    "#As we can see, it can't fill in nan values that didn't have a preceding numeric value.  So now we need to backfill the values that are left.\n",
    "demdf = demdf.fillna(method='backfill')\n",
    "print(demdf['China_pov'])\n",
    "#fantastic."
   ]
  },
  {
   "cell_type": "markdown",
   "metadata": {
    "colab_type": "text",
    "id": "L_zlww3YE74T"
   },
   "source": [
    "Now we can start exploring our data.\n",
    "\n",
    "Let's make some visualizations of worldwide trends over the last 25 years.\n",
    "\n",
    "To do that, let's make columns of aggregate data, by meaning the values of each country\n",
    "\n",
    "we will do it for each indicator - democratic index, poverty rate, gdp per capita, and life expectancy\n",
    "\n",
    "we will calculate it by putting each indicator into an array and meaning them per year\n",
    "\n",
    "the array is of shape (#years,#countries)"
   ]
  },
  {
   "cell_type": "code",
   "execution_count": 10,
   "metadata": {
    "colab": {
     "base_uri": "https://localhost:8080/",
     "height": 34
    },
    "colab_type": "code",
    "executionInfo": {
     "elapsed": 7759,
     "status": "ok",
     "timestamp": 1576523334405,
     "user": {
      "displayName": "Travis Black",
      "photoUrl": "",
      "userId": "02029184568666512051"
     },
     "user_tz": 300
    },
    "id": "gLZCM2x6TWZb",
    "outputId": "7ee491f8-5282-496f-ae2e-e41b5bc3ecbc"
   },
   "outputs": [
    {
     "name": "stdout",
     "output_type": "stream",
     "text": [
      "(24, 388)\n"
     ]
    }
   ],
   "source": [
    "\n",
    "print(demdf.shape)\n",
    "\n",
    "di_array = np.zeros((24,97)) #388/4 \n",
    "gdp_array = np.zeros((24,97))\n",
    "pov_array = np.zeros((24,97))\n",
    "le_array = np.zeros((24,97))\n",
    "\n",
    "cnames = set() #we should store country names for later use\n",
    "\n",
    "#we will need to track which index we are at for each array\n",
    "di = 0\n",
    "gdp = 0\n",
    "pov = 0\n",
    "le = 0\n",
    "for k in demdf:\n",
    "  suffix = k[-4:]\n",
    "  prefix = k[:-4]\n",
    "  if prefix not in cnames:\n",
    "    cnames.add(prefix)\n",
    "\n",
    "  if suffix == \"_di_\":\n",
    "    di_array[:,di] = np.array(list(demdf[k]))\n",
    "    di += 1\n",
    "  elif suffix == \"_gdp\":\n",
    "    gdp_array[:,gdp] = np.array(list(demdf[k]))\n",
    "    gdp += 1\n",
    "  elif suffix == \"_pov\":\n",
    "    pov_array[:,pov] = np.array(list(demdf[k]))\n",
    "    pov += 1\n",
    "  elif suffix == \"_le_\":\n",
    "    le_array[:,le] = np.array(list(demdf[k]))\n",
    "    le += 1\n",
    "\n",
    "#Now we can mean each array over the rows\n",
    "dimeans = list(np.mean(di_array,axis=1))\n",
    "gdpmeans = list(np.mean(gdp_array,axis=1))\n",
    "povmeans = list(np.mean(pov_array,axis=1))\n",
    "lemeans = list(np.mean(le_array,axis=1))\n",
    "\n",
    "demdf['meandi'] = dimeans\n",
    "demdf['meangdp'] = gdpmeans\n",
    "demdf['meanpov'] = povmeans\n",
    "demdf['meanle'] = lemeans\n",
    "\n",
    "#and now we can add our years column\n",
    "demdf['year'] = years\n"
   ]
  },
  {
   "cell_type": "markdown",
   "metadata": {
    "colab_type": "text",
    "id": "tVbdRBduFFn-"
   },
   "source": [
    "# Now we can visualize our data\n",
    "#First, let's look at life expectancy"
   ]
  },
  {
   "cell_type": "code",
   "execution_count": 11,
   "metadata": {
    "colab": {
     "base_uri": "https://localhost:8080/",
     "height": 369
    },
    "colab_type": "code",
    "executionInfo": {
     "elapsed": 8443,
     "status": "ok",
     "timestamp": 1576523335169,
     "user": {
      "displayName": "Travis Black",
      "photoUrl": "",
      "userId": "02029184568666512051"
     },
     "user_tz": 300
    },
    "id": "Cskn34UkXimp",
    "outputId": "6073239c-6be0-4e87-c72e-087ec1a1fe06"
   },
   "outputs": [
    {
     "data": {
      "image/png": "[encoded data removed]",
      "text/plain": [
       "<Figure size 434.125x360 with 1 Axes>"
      ]
     },
     "metadata": {
      "tags": []
     },
     "output_type": "display_data"
    }
   ],
   "source": [
    "#Let's visualize each mean over time\n",
    "import matplotlib.pyplot as plt\n",
    "import seaborn as sns\n",
    "\n",
    "#unfortunately, our data is a pretty weird format for visualization of more than one country.  Let's make a dataframe just for visualization\n",
    "newdf = pd.DataFrame()\n",
    "years = []\n",
    "values = []\n",
    "country = []\n",
    "for row in range(len(demdf)):\n",
    "  years.append(demdf['year'].iloc[row])\n",
    "  values.append(float(demdf['meanle'].iloc[row])) \n",
    "  country.append('mean')\n",
    "for row in range(len(demdf)):\n",
    "  years.append(demdf['year'].iloc[row])\n",
    "  values.append(float(demdf['United States_le_'].iloc[row]))\n",
    "  country.append('USA')  \n",
    "for row in range(len(demdf)):\n",
    "  years.append(demdf['year'].iloc[row])\n",
    "  values.append(float(demdf['China_le_'].iloc[row]))\n",
    "  country.append('China')  \n",
    "\n",
    "\n",
    "newdf['year'] = years\n",
    "newdf['val'] = values\n",
    "newdf['country'] = country\n",
    "\n",
    "sns.relplot(x=\"year\", y=\"val\", hue=\"country\",\n",
    "             kind=\"line\", estimator=None, data=newdf);\n",
    "\n",
    "\n"
   ]
  },
  {
   "cell_type": "markdown",
   "metadata": {
    "colab_type": "text",
    "id": "QmdgpJYmFQ_l"
   },
   "source": [
    "#Next, we look at poverty levels"
   ]
  },
  {
   "cell_type": "code",
   "execution_count": 12,
   "metadata": {
    "colab": {
     "base_uri": "https://localhost:8080/",
     "height": 369
    },
    "colab_type": "code",
    "executionInfo": {
     "elapsed": 8842,
     "status": "ok",
     "timestamp": 1576523335575,
     "user": {
      "displayName": "Travis Black",
      "photoUrl": "",
      "userId": "02029184568666512051"
     },
     "user_tz": 300
    },
    "id": "2A7icamfmQmA",
    "outputId": "3e86a243-4b1b-4f33-9d4a-f7f6b9a152fd"
   },
   "outputs": [
    {
     "data": {
      "image/png": "[encoded data removed]",
      "text/plain": [
       "<Figure size 434.125x360 with 1 Axes>"
      ]
     },
     "metadata": {
      "tags": []
     },
     "output_type": "display_data"
    }
   ],
   "source": [
    "newdf = pd.DataFrame()\n",
    "years = []\n",
    "values = []\n",
    "country = []\n",
    "for row in range(len(demdf)):\n",
    "  years.append(demdf['year'].iloc[row])\n",
    "  values.append(float(demdf['meanpov'].iloc[row])) \n",
    "  country.append('mean')\n",
    "for row in range(len(demdf)):\n",
    "  years.append(demdf['year'].iloc[row])\n",
    "  values.append(float(demdf['United States_pov'].iloc[row]))\n",
    "  country.append('USA')  \n",
    "for row in range(len(demdf)):\n",
    "  years.append(demdf['year'].iloc[row])\n",
    "  values.append(float(demdf['China_pov'].iloc[row]))\n",
    "  country.append('China')  \n",
    "\n",
    "newdf['year'] = years\n",
    "newdf['val'] = values\n",
    "newdf['country'] = country\n",
    "\n",
    "sns.relplot(x=\"year\", y=\"val\", hue=\"country\",\n",
    "             kind=\"line\", estimator=None, data=newdf);"
   ]
  },
  {
   "cell_type": "markdown",
   "metadata": {
    "colab_type": "text",
    "id": "1e-hqWE_FT0g"
   },
   "source": [
    "#Now we can look at GDP Per capita"
   ]
  },
  {
   "cell_type": "code",
   "execution_count": 13,
   "metadata": {
    "colab": {
     "base_uri": "https://localhost:8080/",
     "height": 369
    },
    "colab_type": "code",
    "executionInfo": {
     "elapsed": 9252,
     "status": "ok",
     "timestamp": 1576523335994,
     "user": {
      "displayName": "Travis Black",
      "photoUrl": "",
      "userId": "02029184568666512051"
     },
     "user_tz": 300
    },
    "id": "0rfzIo7smRBM",
    "outputId": "1c74afe5-ef1a-4ccb-e256-7b16fb87f3f1"
   },
   "outputs": [
    {
     "data": {
      "image/png": "[encoded data removed]",
      "text/plain": [
       "<Figure size 434.125x360 with 1 Axes>"
      ]
     },
     "metadata": {
      "tags": []
     },
     "output_type": "display_data"
    }
   ],
   "source": [
    "newdf = pd.DataFrame()\n",
    "years = []\n",
    "values = []\n",
    "country = []\n",
    "for row in range(len(demdf)):\n",
    "  years.append(demdf['year'].iloc[row])\n",
    "  values.append(float(demdf['meangdp'].iloc[row])) \n",
    "  country.append('mean')\n",
    "for row in range(len(demdf)):\n",
    "  years.append(demdf['year'].iloc[row])\n",
    "  values.append(float(demdf['United States_gdp'].iloc[row]))\n",
    "  country.append('USA')  \n",
    "for row in range(len(demdf)):\n",
    "  years.append(demdf['year'].iloc[row])\n",
    "  values.append(float(demdf['China_gdp'].iloc[row]))\n",
    "  country.append('China')  \n",
    "\n",
    "newdf['year'] = years\n",
    "newdf['val'] = values\n",
    "newdf['country'] = country\n",
    "\n",
    "sns.relplot(x=\"year\", y=\"val\", hue=\"country\",\n",
    "             kind=\"line\", estimator=None, data=newdf);"
   ]
  },
  {
   "cell_type": "markdown",
   "metadata": {
    "colab_type": "text",
    "id": "znQYAQf0FXD_"
   },
   "source": [
    "#Finally lets look at democratic index."
   ]
  },
  {
   "cell_type": "code",
   "execution_count": 14,
   "metadata": {
    "colab": {
     "base_uri": "https://localhost:8080/",
     "height": 369
    },
    "colab_type": "code",
    "executionInfo": {
     "elapsed": 9591,
     "status": "ok",
     "timestamp": 1576523336339,
     "user": {
      "displayName": "Travis Black",
      "photoUrl": "",
      "userId": "02029184568666512051"
     },
     "user_tz": 300
    },
    "id": "6rZV2NtLmRUN",
    "outputId": "3e36f288-81b4-4a02-9ae3-5160c290f347"
   },
   "outputs": [
    {
     "data": {
      "image/png": "[encoded data removed]",
      "text/plain": [
       "<Figure size 434.125x360 with 1 Axes>"
      ]
     },
     "metadata": {
      "tags": []
     },
     "output_type": "display_data"
    }
   ],
   "source": [
    "newdf = pd.DataFrame()\n",
    "years = []\n",
    "values = []\n",
    "country = []\n",
    "for row in range(len(demdf)):\n",
    "  years.append(demdf['year'].iloc[row])\n",
    "  values.append(float(demdf['meandi'].iloc[row])) \n",
    "  country.append('mean')\n",
    "for row in range(len(demdf)):\n",
    "  years.append(demdf['year'].iloc[row])\n",
    "  values.append(float(demdf['United States_di_'].iloc[row]))\n",
    "  country.append('USA')  \n",
    "for row in range(len(demdf)):\n",
    "  years.append(demdf['year'].iloc[row])\n",
    "  values.append(float(demdf['China_di_'].iloc[row]))\n",
    "  country.append('China')  \n",
    "\n",
    "newdf['year'] = years\n",
    "newdf['val'] = values\n",
    "newdf['country'] = country\n",
    "\n",
    "sns.relplot(x=\"year\", y=\"val\", hue=\"country\",\n",
    "             kind=\"line\", estimator=None, data=newdf);"
   ]
  },
  {
   "cell_type": "markdown",
   "metadata": {
    "colab_type": "text",
    "id": "UfiCtssuFdHf"
   },
   "source": [
    "#The last visualization I'd like to do is to see if we can actually see a corrlation between democratic index and the chosen indicators.\n",
    "\n",
    "to do this, we need to normalize each variable.  We will minmax feature scaling to scale each variable between 0 and 1\n",
    "\n",
    "We can do that by using the following on each array of data:\n",
    "(X-X_min)/(X_max-X_min)"
   ]
  },
  {
   "cell_type": "code",
   "execution_count": 15,
   "metadata": {
    "colab": {
     "base_uri": "https://localhost:8080/",
     "height": 369
    },
    "colab_type": "code",
    "executionInfo": {
     "elapsed": 10070,
     "status": "ok",
     "timestamp": 1576523336825,
     "user": {
      "displayName": "Travis Black",
      "photoUrl": "",
      "userId": "02029184568666512051"
     },
     "user_tz": 300
    },
    "id": "PuJqOBTQokjb",
    "outputId": "3d031df5-8b5e-4465-cabb-8d20d5dcd538"
   },
   "outputs": [
    {
     "data": {
      "image/png": "[encoded data removed]",
      "text/plain": [
       "<Figure size 443.25x360 with 1 Axes>"
      ]
     },
     "metadata": {
      "tags": []
     },
     "output_type": "display_data"
    }
   ],
   "source": [
    "arr = np.array(demdf['meanle'])\n",
    "arrmin = np.min(arr)\n",
    "arrmax = np.max(arr)\n",
    "arr = (arr-arrmin)/(arrmax-arrmin)\n",
    "demdf['meanle'] = list(arr)\n",
    "\n",
    "arr = np.array(demdf['meanpov'])\n",
    "arrmin = np.min(arr)\n",
    "arrmax = np.max(arr)\n",
    "arr = (arr-arrmin)/(arrmax-arrmin)\n",
    "demdf['meanpov'] = list(arr)\n",
    "\n",
    "arr = np.array(demdf['meangdp'])\n",
    "arrmin = np.min(arr)\n",
    "arrmax = np.max(arr)\n",
    "arr = (arr-arrmin)/(arrmax-arrmin)\n",
    "demdf['meangdp'] = list(arr)\n",
    "\n",
    "arr = np.array(demdf['meandi'])\n",
    "arrmin = np.min(arr)\n",
    "arrmax = np.max(arr)\n",
    "arr = (arr-arrmin)/(arrmax-arrmin)\n",
    "demdf['meandi'] = list(arr)\n",
    "\n",
    "#and now we can do a visualization of the trend of each mean\n",
    "newdf = pd.DataFrame()\n",
    "years = []\n",
    "values = []\n",
    "country = []\n",
    "for row in range(len(demdf)):\n",
    "  years.append(demdf['year'].iloc[row])\n",
    "  values.append(float(demdf['meandi'].iloc[row])) \n",
    "  country.append('meandi')\n",
    "for row in range(len(demdf)):\n",
    "  years.append(demdf['year'].iloc[row])\n",
    "  values.append(float(demdf['meangdp'].iloc[row]))\n",
    "  country.append('meangdp')  \n",
    "for row in range(len(demdf)):\n",
    "  years.append(demdf['year'].iloc[row])\n",
    "  values.append(float(demdf['meanpov'].iloc[row]))\n",
    "  country.append('meanpov')  \n",
    "for row in range(len(demdf)):\n",
    "  years.append(demdf['year'].iloc[row])\n",
    "  values.append(float(demdf['meanle'].iloc[row]))\n",
    "  country.append('meanli')  \n",
    "\n",
    "newdf['year'] = years\n",
    "newdf['val'] = values\n",
    "newdf['country'] = country\n",
    "\n",
    "sns.relplot(x=\"year\", y=\"val\", hue=\"country\",\n",
    "             kind=\"line\", estimator=None, data=newdf);\n",
    "\n",
    "\n"
   ]
  },
  {
   "cell_type": "markdown",
   "metadata": {
    "colab_type": "text",
    "id": "REfvj0xMFxmy"
   },
   "source": [
    "In our last visualization, we can see some interesting trends.\n",
    "\n",
    "We can see a pretty strong correlation between democratic index and gdp.\n",
    "\n",
    "There also looks to be some correlation between poverty and DI\n",
    "\n",
    "but there doesn't look to be much correlation between poverty and DI\n"
   ]
  },
  {
   "cell_type": "markdown",
   "metadata": {
    "colab_type": "text",
    "id": "-hTkubAtF7uU"
   },
   "source": [
    "# Let's use machine learning by making a neural network.\n",
    "\n",
    "We can try to predict democracy index with our 3 indicators (gdp, poverty, and life expectancy)"
   ]
  },
  {
   "cell_type": "code",
   "execution_count": 0,
   "metadata": {
    "colab": {},
    "colab_type": "code",
    "id": "sRapSB_QzAe7"
   },
   "outputs": [],
   "source": [
    "#We need to create a numpy array of our data.  One row is a sample, and a sample will have [year,pov,li,gdp], and the target values are an array where row corresponds democratic index\n",
    "x = np.zeros((24*97,4))\n",
    "y = np.zeros((24*97,1))\n",
    "\n",
    "#also, we want to make sure we label what the countries are for later\n",
    "clabels = []\n",
    "\n",
    "curr = 0\n",
    "for row in range(len(demdf)):\n",
    "  year = demdf['year'].iloc[row]\n",
    "  for c in cnames:\n",
    "    if c+\"_pov\" not in demdf:\n",
    "      continue\n",
    "    clabels.append(c)\n",
    "    pov = demdf[c+\"_pov\"].iloc[row]\n",
    "    di = pov = demdf[c+\"_di_\"].iloc[row]\n",
    "    gdp = demdf[c+\"_gdp\"].iloc[row]\n",
    "    le = demdf[c+\"_le_\"].iloc[row]\n",
    "    y[curr,0] = float(di)\n",
    "    x[curr,0] = float(year)\n",
    "    x[curr,1] = float(pov)\n",
    "    x[curr,2] = float(gdp)\n",
    "    x[curr,3] = float(le)\n",
    "    curr += 1\n"
   ]
  },
  {
   "cell_type": "markdown",
   "metadata": {
    "colab_type": "text",
    "id": "GzWPXOjAGHWA"
   },
   "source": [
    "#We will use the keras library to create a neural network.\n",
    "\n",
    "Our data is not too complicated, so we will use a simple feed-forward neural network that has one hidden layer.  \n",
    "\n",
    "We will use relu as the activation for our first layer, and since our final output is a percentage, we can use sigmoid as our final activation function\n",
    "\n",
    "Also, we will add a normalization layer to normalize our data before it enters our first layer"
   ]
  },
  {
   "cell_type": "code",
   "execution_count": 17,
   "metadata": {
    "colab": {
     "base_uri": "https://localhost:8080/",
     "height": 510
    },
    "colab_type": "code",
    "executionInfo": {
     "elapsed": 11712,
     "status": "ok",
     "timestamp": 1576523338481,
     "user": {
      "displayName": "Travis Black",
      "photoUrl": "",
      "userId": "02029184568666512051"
     },
     "user_tz": 300
    },
    "id": "cHFL7p5-0CK5",
    "outputId": "31419d02-2480-4ae1-9fc4-90765016e64d"
   },
   "outputs": [
    {
     "name": "stderr",
     "output_type": "stream",
     "text": [
      "Using TensorFlow backend.\n"
     ]
    },
    {
     "name": "stdout",
     "output_type": "stream",
     "text": [
      "WARNING:tensorflow:From /usr/local/lib/python3.6/dist-packages/keras/backend/tensorflow_backend.py:66: The name tf.get_default_graph is deprecated. Please use tf.compat.v1.get_default_graph instead.\n",
      "\n",
      "WARNING:tensorflow:From /usr/local/lib/python3.6/dist-packages/keras/backend/tensorflow_backend.py:541: The name tf.placeholder is deprecated. Please use tf.compat.v1.placeholder instead.\n",
      "\n",
      "WARNING:tensorflow:From /usr/local/lib/python3.6/dist-packages/keras/backend/tensorflow_backend.py:4432: The name tf.random_uniform is deprecated. Please use tf.random.uniform instead.\n",
      "\n",
      "WARNING:tensorflow:From /usr/local/lib/python3.6/dist-packages/keras/backend/tensorflow_backend.py:148: The name tf.placeholder_with_default is deprecated. Please use tf.compat.v1.placeholder_with_default instead.\n",
      "\n",
      "WARNING:tensorflow:From /usr/local/lib/python3.6/dist-packages/keras/optimizers.py:793: The name tf.train.Optimizer is deprecated. Please use tf.compat.v1.train.Optimizer instead.\n",
      "\n",
      "Model: \"sequential_1\"\n",
      "_________________________________________________________________\n",
      "Layer (type)                 Output Shape              Param #   \n",
      "=================================================================\n",
      "dense_1 (Dense)              (None, 8)                 40        \n",
      "_________________________________________________________________\n",
      "batch_normalization_1 (Batch (None, 8)                 32        \n",
      "_________________________________________________________________\n",
      "activation_1 (Activation)    (None, 8)                 0         \n",
      "_________________________________________________________________\n",
      "dense_2 (Dense)              (None, 1)                 9         \n",
      "_________________________________________________________________\n",
      "activation_2 (Activation)    (None, 1)                 0         \n",
      "=================================================================\n",
      "Total params: 81\n",
      "Trainable params: 65\n",
      "Non-trainable params: 16\n",
      "_________________________________________________________________\n"
     ]
    }
   ],
   "source": [
    "#For our neural network, we are going to use keras\n",
    "from keras.models import Sequential\n",
    "from keras.layers import Dense, Activation, BatchNormalization\n",
    "\n",
    "\n",
    "model = Sequential()\n",
    "model.add(Dense(8, input_dim=4))\n",
    "model.add(BatchNormalization())\n",
    "model.add(Activation('relu'))\n",
    "model.add(Dense(1))\n",
    "model.add(Activation('sigmoid'))\n",
    "\n",
    "#We use Adam as our optimizer, and mean squared error as our loss function\n",
    "model.compile(optimizer='Adam',\n",
    "              loss='mse')\n",
    "\n",
    "model.summary()"
   ]
  },
  {
   "cell_type": "markdown",
   "metadata": {
    "colab_type": "text",
    "id": "uA_xeD_QGO17"
   },
   "source": [
    "Let's shuffle our data and split it into test and train data"
   ]
  },
  {
   "cell_type": "code",
   "execution_count": 0,
   "metadata": {
    "colab": {},
    "colab_type": "code",
    "id": "AOAGLoPi4pob"
   },
   "outputs": [],
   "source": [
    "from sklearn.model_selection import train_test_split\n",
    "x_train,x_test,y_train,y_test = train_test_split(x,y,test_size=0.3)\n"
   ]
  },
  {
   "cell_type": "markdown",
   "metadata": {
    "colab_type": "text",
    "id": "j2E1LxGQGRn4"
   },
   "source": [
    "Now we train the network"
   ]
  },
  {
   "cell_type": "code",
   "execution_count": 19,
   "metadata": {
    "colab": {
     "base_uri": "https://localhost:8080/",
     "height": 1000
    },
    "colab_type": "code",
    "executionInfo": {
     "elapsed": 16109,
     "status": "ok",
     "timestamp": 1576523342903,
     "user": {
      "displayName": "Travis Black",
      "photoUrl": "",
      "userId": "02029184568666512051"
     },
     "user_tz": 300
    },
    "id": "o_NOVTM06F_3",
    "outputId": "5b7bf556-0852-457a-ac01-2a38b49170ea"
   },
   "outputs": [
    {
     "name": "stdout",
     "output_type": "stream",
     "text": [
      "WARNING:tensorflow:From /usr/local/lib/python3.6/dist-packages/keras/backend/tensorflow_backend.py:1033: The name tf.assign_add is deprecated. Please use tf.compat.v1.assign_add instead.\n",
      "\n",
      "WARNING:tensorflow:From /usr/local/lib/python3.6/dist-packages/keras/backend/tensorflow_backend.py:1020: The name tf.assign is deprecated. Please use tf.compat.v1.assign instead.\n",
      "\n",
      "WARNING:tensorflow:From /usr/local/lib/python3.6/dist-packages/keras/backend/tensorflow_backend.py:3005: The name tf.Session is deprecated. Please use tf.compat.v1.Session instead.\n",
      "\n",
      "Epoch 1/50\n",
      "WARNING:tensorflow:From /usr/local/lib/python3.6/dist-packages/keras/backend/tensorflow_backend.py:190: The name tf.get_default_session is deprecated. Please use tf.compat.v1.get_default_session instead.\n",
      "\n",
      "WARNING:tensorflow:From /usr/local/lib/python3.6/dist-packages/keras/backend/tensorflow_backend.py:197: The name tf.ConfigProto is deprecated. Please use tf.compat.v1.ConfigProto instead.\n",
      "\n",
      "WARNING:tensorflow:From /usr/local/lib/python3.6/dist-packages/keras/backend/tensorflow_backend.py:207: The name tf.global_variables is deprecated. Please use tf.compat.v1.global_variables instead.\n",
      "\n",
      "WARNING:tensorflow:From /usr/local/lib/python3.6/dist-packages/keras/backend/tensorflow_backend.py:216: The name tf.is_variable_initialized is deprecated. Please use tf.compat.v1.is_variable_initialized instead.\n",
      "\n",
      "WARNING:tensorflow:From /usr/local/lib/python3.6/dist-packages/keras/backend/tensorflow_backend.py:223: The name tf.variables_initializer is deprecated. Please use tf.compat.v1.variables_initializer instead.\n",
      "\n",
      "1629/1629 [==============================] - 0s 231us/step - loss: 0.0515\n",
      "Epoch 2/50\n",
      "1629/1629 [==============================] - 0s 41us/step - loss: 0.0422\n",
      "Epoch 3/50\n",
      "1629/1629 [==============================] - 0s 42us/step - loss: 0.0385\n",
      "Epoch 4/50\n",
      "1629/1629 [==============================] - 0s 44us/step - loss: 0.0366\n",
      "Epoch 5/50\n",
      "1629/1629 [==============================] - 0s 41us/step - loss: 0.0350\n",
      "Epoch 6/50\n",
      "1629/1629 [==============================] - 0s 40us/step - loss: 0.0348\n",
      "Epoch 7/50\n",
      "1629/1629 [==============================] - 0s 39us/step - loss: 0.0339\n",
      "Epoch 8/50\n",
      "1629/1629 [==============================] - 0s 42us/step - loss: 0.0329\n",
      "Epoch 9/50\n",
      "1629/1629 [==============================] - 0s 45us/step - loss: 0.0327\n",
      "Epoch 10/50\n",
      "1629/1629 [==============================] - 0s 53us/step - loss: 0.0323\n",
      "Epoch 11/50\n",
      "1629/1629 [==============================] - 0s 41us/step - loss: 0.0326\n",
      "Epoch 12/50\n",
      "1629/1629 [==============================] - 0s 43us/step - loss: 0.0321\n",
      "Epoch 13/50\n",
      "1629/1629 [==============================] - 0s 41us/step - loss: 0.0323\n",
      "Epoch 14/50\n",
      "1629/1629 [==============================] - 0s 41us/step - loss: 0.0324\n",
      "Epoch 15/50\n",
      "1629/1629 [==============================] - 0s 43us/step - loss: 0.0314\n",
      "Epoch 16/50\n",
      "1629/1629 [==============================] - 0s 41us/step - loss: 0.0313\n",
      "Epoch 17/50\n",
      "1629/1629 [==============================] - 0s 40us/step - loss: 0.0316\n",
      "Epoch 18/50\n",
      "1629/1629 [==============================] - 0s 43us/step - loss: 0.0314\n",
      "Epoch 19/50\n",
      "1629/1629 [==============================] - 0s 47us/step - loss: 0.0312\n",
      "Epoch 20/50\n",
      "1629/1629 [==============================] - 0s 48us/step - loss: 0.0316\n",
      "Epoch 21/50\n",
      "1629/1629 [==============================] - 0s 43us/step - loss: 0.0314\n",
      "Epoch 22/50\n",
      "1629/1629 [==============================] - 0s 41us/step - loss: 0.0315\n",
      "Epoch 23/50\n",
      "1629/1629 [==============================] - 0s 45us/step - loss: 0.0317\n",
      "Epoch 24/50\n",
      "1629/1629 [==============================] - 0s 43us/step - loss: 0.0311\n",
      "Epoch 25/50\n",
      "1629/1629 [==============================] - 0s 41us/step - loss: 0.0312\n",
      "Epoch 26/50\n",
      "1629/1629 [==============================] - 0s 41us/step - loss: 0.0320\n",
      "Epoch 27/50\n",
      "1629/1629 [==============================] - 0s 42us/step - loss: 0.0315\n",
      "Epoch 28/50\n",
      "1629/1629 [==============================] - 0s 40us/step - loss: 0.0305\n",
      "Epoch 29/50\n",
      "1629/1629 [==============================] - 0s 43us/step - loss: 0.0312\n",
      "Epoch 30/50\n",
      "1629/1629 [==============================] - 0s 45us/step - loss: 0.0308\n",
      "Epoch 31/50\n",
      "1629/1629 [==============================] - 0s 42us/step - loss: 0.0306\n",
      "Epoch 32/50\n",
      "1629/1629 [==============================] - 0s 41us/step - loss: 0.0303\n",
      "Epoch 33/50\n",
      "1629/1629 [==============================] - 0s 44us/step - loss: 0.0307\n",
      "Epoch 34/50\n",
      "1629/1629 [==============================] - 0s 41us/step - loss: 0.0298\n",
      "Epoch 35/50\n",
      "1629/1629 [==============================] - 0s 40us/step - loss: 0.0308\n",
      "Epoch 36/50\n",
      "1629/1629 [==============================] - 0s 42us/step - loss: 0.0299\n",
      "Epoch 37/50\n",
      "1629/1629 [==============================] - 0s 44us/step - loss: 0.0312\n",
      "Epoch 38/50\n",
      "1629/1629 [==============================] - 0s 41us/step - loss: 0.0299\n",
      "Epoch 39/50\n",
      "1629/1629 [==============================] - 0s 43us/step - loss: 0.0296\n",
      "Epoch 40/50\n",
      "1629/1629 [==============================] - 0s 46us/step - loss: 0.0342\n",
      "Epoch 41/50\n",
      "1629/1629 [==============================] - 0s 39us/step - loss: 0.0316\n",
      "Epoch 42/50\n",
      "1629/1629 [==============================] - 0s 43us/step - loss: 0.0296\n",
      "Epoch 43/50\n",
      "1629/1629 [==============================] - 0s 42us/step - loss: 0.0297\n",
      "Epoch 44/50\n",
      "1629/1629 [==============================] - 0s 44us/step - loss: 0.0297\n",
      "Epoch 45/50\n",
      "1629/1629 [==============================] - 0s 41us/step - loss: 0.0305\n",
      "Epoch 46/50\n",
      "1629/1629 [==============================] - 0s 43us/step - loss: 0.0304\n",
      "Epoch 47/50\n",
      "1629/1629 [==============================] - 0s 43us/step - loss: 0.0304\n",
      "Epoch 48/50\n",
      "1629/1629 [==============================] - 0s 45us/step - loss: 0.0309\n",
      "Epoch 49/50\n",
      "1629/1629 [==============================] - 0s 45us/step - loss: 0.0306\n",
      "Epoch 50/50\n",
      "1629/1629 [==============================] - 0s 46us/step - loss: 0.0302\n"
     ]
    },
    {
     "data": {
      "text/plain": [
       "<keras.callbacks.History at 0x7f10f0f43240>"
      ]
     },
     "execution_count": 19,
     "metadata": {
      "tags": []
     },
     "output_type": "execute_result"
    }
   ],
   "source": [
    "model.fit(x_train,y_train,batch_size=32,epochs=50)"
   ]
  },
  {
   "cell_type": "markdown",
   "metadata": {
    "colab_type": "text",
    "id": "HLoOc_G2GWYR"
   },
   "source": [
    "And finally, let's test our accuracy"
   ]
  },
  {
   "cell_type": "code",
   "execution_count": 20,
   "metadata": {
    "colab": {
     "base_uri": "https://localhost:8080/",
     "height": 34
    },
    "colab_type": "code",
    "executionInfo": {
     "elapsed": 16175,
     "status": "ok",
     "timestamp": 1576523342983,
     "user": {
      "displayName": "Travis Black",
      "photoUrl": "",
      "userId": "02029184568666512051"
     },
     "user_tz": 300
    },
    "id": "oBSjoNZL6lvg",
    "outputId": "e4fd349b-d5a3-477d-af88-d1ef55098873"
   },
   "outputs": [
    {
     "data": {
      "text/plain": [
       "0.03533708"
      ]
     },
     "execution_count": 20,
     "metadata": {
      "tags": []
     },
     "output_type": "execute_result"
    }
   ],
   "source": [
    "model.test_on_batch(x_test,y_test)"
   ]
  },
  {
   "cell_type": "markdown",
   "metadata": {
    "colab_type": "text",
    "id": "s-mHKC1GGaNR"
   },
   "source": [
    "This accuracy is quite good.  The number it is returning here is MSE, which means that it generally predicts pretty closely how democratic a nation is.  It's actually interesting, our tested predictions are almost as accurate as the training accuracy.\n",
    "\n",
    "This means that the chosen indicators are closely tied to how democratic a country is, though that is not necessarily always the case.\n",
    "\n",
    "There is much more that could be done with this data, given more time.  In particular, overlaying this information onto a global map would be very cool, and perhaps that is something that I will be doing in the future."
   ]
  }
 ],
 "metadata": {
  "accelerator": "TPU",
  "colab": {
   "collapsed_sections": [],
   "name": "Copy of cmsc final.ipynb",
   "provenance": [
    {
     "file_id": "14XhqaQhkOehKqA0wbz7OPMKcRUeQqAaR",
     "timestamp": 1576523981793
    }
   ]
  },
  "kernelspec": {
   "display_name": "Python 3",
   "language": "python",
   "name": "python3"
  },
  "language_info": {
   "codemirror_mode": {
    "name": "ipython",
    "version": 3
   },
   "file_extension": ".py",
   "mimetype": "text/x-python",
   "name": "python",
   "nbconvert_exporter": "python",
   "pygments_lexer": "ipython3",
   "version": "3.5.2"
  }
 },
 "nbformat": 4,
 "nbformat_minor": 1
}
